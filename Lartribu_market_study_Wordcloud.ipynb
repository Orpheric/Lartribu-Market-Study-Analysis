{
  "cells": [
    {
      "cell_type": "markdown",
      "metadata": {
        "id": "view-in-github",
        "colab_type": "text"
      },
      "source": [
        "<a href=\"https://colab.research.google.com/github/Orpheric/Lartribu-Market-Study-Analysis/blob/main/Lartribu_market_study_Wordcloud.ipynb\" target=\"_parent\"><img src=\"https://colab.research.google.com/assets/colab-badge.svg\" alt=\"Open In Colab\"/></a>"
      ]
    },
    {
      "cell_type": "code",
      "execution_count": null,
      "metadata": {
        "colab": {
          "base_uri": "https://localhost:8080/"
        },
        "id": "pkQ4uHNuUvsB",
        "outputId": "c60fa524-6cd9-438e-a608-dbdfe5d2566c"
      },
      "outputs": [
        {
          "name": "stdout",
          "output_type": "stream",
          "text": [
            "Looking in indexes: https://pypi.org/simple, https://us-python.pkg.dev/colab-wheels/public/simple/\n",
            "Requirement already satisfied: wordcloud in /usr/local/lib/python3.7/dist-packages (1.5.0)\n",
            "Requirement already satisfied: numpy>=1.6.1 in /usr/local/lib/python3.7/dist-packages (from wordcloud) (1.21.6)\n",
            "Requirement already satisfied: pillow in /usr/local/lib/python3.7/dist-packages (from wordcloud) (7.1.2)\n"
          ]
        }
      ],
      "source": [
        " \n",
        "!pip install wordcloud"
      ]
    },
    {
      "cell_type": "code",
      "execution_count": null,
      "metadata": {
        "id": "Ld9S52XTqksP"
      },
      "outputs": [],
      "source": [
        "pip list"
      ]
    },
    {
      "cell_type": "markdown",
      "metadata": {
        "id": "TZiYk6U3EDYr"
      },
      "source": [
        "# Importing Librairies"
      ]
    },
    {
      "cell_type": "code",
      "execution_count": null,
      "metadata": {
        "id": "z9_pGARWWLHn"
      },
      "outputs": [],
      "source": [
        "import numpy as np\n",
        "import pandas as pd\n",
        "from PIL import Image\n",
        "from wordcloud import WordCloud, STOPWORDS, ImageColorGenerator\n",
        "import matplotlib.pyplot as plt\n"
      ]
    },
    {
      "cell_type": "code",
      "execution_count": null,
      "metadata": {
        "colab": {
          "background_save": true
        },
        "id": "RZTl6eNSbIBG",
        "outputId": "9d1e3734-7dee-4fe6-b87e-554dcc66275d"
      },
      "outputs": [
        {
          "data": {
            "text/html": [
              "\n",
              "  <div id=\"df-49c289f4-6e42-44c8-9433-d60434a46eb8\">\n",
              "    <div class=\"colab-df-container\">\n",
              "      <div>\n",
              "<style scoped>\n",
              "    .dataframe tbody tr th:only-of-type {\n",
              "        vertical-align: middle;\n",
              "    }\n",
              "\n",
              "    .dataframe tbody tr th {\n",
              "        vertical-align: top;\n",
              "    }\n",
              "\n",
              "    .dataframe thead th {\n",
              "        text-align: right;\n",
              "    }\n",
              "</style>\n",
              "<table border=\"1\" class=\"dataframe\">\n",
              "  <thead>\n",
              "    <tr style=\"text-align: right;\">\n",
              "      <th></th>\n",
              "      <th>Unnamed: 0</th>\n",
              "      <th>age</th>\n",
              "      <th>gender</th>\n",
              "      <th>in_dakar</th>\n",
              "      <th>work_in_art</th>\n",
              "      <th>interessed_in_art</th>\n",
              "      <th>work_with_artist</th>\n",
              "      <th>tools_used_to_get_artist</th>\n",
              "      <th>experience_mark_with_artist</th>\n",
              "      <th>work_satisfaction</th>\n",
              "      <th>...</th>\n",
              "      <th>expectations2</th>\n",
              "      <th>artists_expectations_in_one_word</th>\n",
              "      <th>know_other_annuary</th>\n",
              "      <th>concurrents</th>\n",
              "      <th>experience_with_survey</th>\n",
              "      <th>dislike_about_survey</th>\n",
              "      <th>Submitted At</th>\n",
              "      <th>Token</th>\n",
              "      <th>expectations</th>\n",
              "      <th>expectations_in_one_word</th>\n",
              "    </tr>\n",
              "  </thead>\n",
              "  <tbody>\n",
              "    <tr>\n",
              "      <th>0</th>\n",
              "      <td>0</td>\n",
              "      <td>16 - 25 ans</td>\n",
              "      <td>Féminin</td>\n",
              "      <td>True</td>\n",
              "      <td>True</td>\n",
              "      <td>NaN</td>\n",
              "      <td>NaN</td>\n",
              "      <td>NaN</td>\n",
              "      <td>NaN</td>\n",
              "      <td>NaN</td>\n",
              "      <td>...</td>\n",
              "      <td>Que la totalité des données (échanges, product...</td>\n",
              "      <td>protection des données</td>\n",
              "      <td>False</td>\n",
              "      <td>NaN</td>\n",
              "      <td>9</td>\n",
              "      <td>Aucun apéro ? Pas de petits buffets ? C'est ré...</td>\n",
              "      <td>2022-01-07 19:24:26</td>\n",
              "      <td>5rmcjpqm0zjo1j3uqywxjaa5rmcjpof0</td>\n",
              "      <td>Que la totalité des données (échanges, product...</td>\n",
              "      <td>protection des données</td>\n",
              "    </tr>\n",
              "    <tr>\n",
              "      <th>1</th>\n",
              "      <td>1</td>\n",
              "      <td>25 - 35 ans</td>\n",
              "      <td>Masculin</td>\n",
              "      <td>False</td>\n",
              "      <td>False</td>\n",
              "      <td>5.0</td>\n",
              "      <td>1.0</td>\n",
              "      <td>Instagram, Bouche à oreille</td>\n",
              "      <td>9.0</td>\n",
              "      <td>A peu près</td>\n",
              "      <td>...</td>\n",
              "      <td>NaN</td>\n",
              "      <td>NaN</td>\n",
              "      <td>False</td>\n",
              "      <td>NaN</td>\n",
              "      <td>9</td>\n",
              "      <td>Peu d’infos sur la plateforme</td>\n",
              "      <td>2022-01-07 21:47:48</td>\n",
              "      <td>9n09lmwx7cmbopi7ialps9n09lmw8k1u</td>\n",
              "      <td>Qualité visuelle \\nUtilité  artistique \\nVisib...</td>\n",
              "      <td>Qualité visuelle \\nUtilité  artistique \\nVisib...</td>\n",
              "    </tr>\n",
              "    <tr>\n",
              "      <th>2</th>\n",
              "      <td>2</td>\n",
              "      <td>16 - 25 ans</td>\n",
              "      <td>Masculin</td>\n",
              "      <td>True</td>\n",
              "      <td>True</td>\n",
              "      <td>NaN</td>\n",
              "      <td>NaN</td>\n",
              "      <td>NaN</td>\n",
              "      <td>NaN</td>\n",
              "      <td>NaN</td>\n",
              "      <td>...</td>\n",
              "      <td>Flexibilité, respect</td>\n",
              "      <td>Flexibilité, respect</td>\n",
              "      <td>False</td>\n",
              "      <td>NaN</td>\n",
              "      <td>9</td>\n",
              "      <td>Je n’aime pas trop écrire, je préfère cocher</td>\n",
              "      <td>2022-01-07 21:47:39</td>\n",
              "      <td>p4tmnt85e5s5droqsxt59p4tmnth7h2a</td>\n",
              "      <td>Flexibilité, respect</td>\n",
              "      <td>Flexibilité, respect</td>\n",
              "    </tr>\n",
              "    <tr>\n",
              "      <th>3</th>\n",
              "      <td>3</td>\n",
              "      <td>16 - 25 ans</td>\n",
              "      <td>Masculin</td>\n",
              "      <td>True</td>\n",
              "      <td>False</td>\n",
              "      <td>5.0</td>\n",
              "      <td>0.0</td>\n",
              "      <td>Bouche à oreille</td>\n",
              "      <td>7.0</td>\n",
              "      <td>Oui</td>\n",
              "      <td>...</td>\n",
              "      <td>NaN</td>\n",
              "      <td>NaN</td>\n",
              "      <td>False</td>\n",
              "      <td>NaN</td>\n",
              "      <td>10</td>\n",
              "      <td>Franchement rien</td>\n",
              "      <td>2022-01-07 21:46:13</td>\n",
              "      <td>41lwhiddi4wo8xiw141lwh7661pcusc7</td>\n",
              "      <td>Efficace</td>\n",
              "      <td>Efficacite</td>\n",
              "    </tr>\n",
              "    <tr>\n",
              "      <th>4</th>\n",
              "      <td>4</td>\n",
              "      <td>16 - 25 ans</td>\n",
              "      <td>Féminin</td>\n",
              "      <td>True</td>\n",
              "      <td>False</td>\n",
              "      <td>2.0</td>\n",
              "      <td>1.0</td>\n",
              "      <td>Bouche à oreille</td>\n",
              "      <td>8.0</td>\n",
              "      <td>A peu près</td>\n",
              "      <td>...</td>\n",
              "      <td>NaN</td>\n",
              "      <td>NaN</td>\n",
              "      <td>False</td>\n",
              "      <td>NaN</td>\n",
              "      <td>9</td>\n",
              "      <td>Rien</td>\n",
              "      <td>2022-01-07 21:52:39</td>\n",
              "      <td>rsi72g5kwq1njsv7zk7mrsi72w6iivoi</td>\n",
              "      <td>Que la plateforme regroupe des artistes connus...</td>\n",
              "      <td>diversité  d'artiste</td>\n",
              "    </tr>\n",
              "  </tbody>\n",
              "</table>\n",
              "<p>5 rows × 29 columns</p>\n",
              "</div>\n",
              "      <button class=\"colab-df-convert\" onclick=\"convertToInteractive('df-49c289f4-6e42-44c8-9433-d60434a46eb8')\"\n",
              "              title=\"Convert this dataframe to an interactive table.\"\n",
              "              style=\"display:none;\">\n",
              "        \n",
              "  <svg xmlns=\"http://www.w3.org/2000/svg\" height=\"24px\"viewBox=\"0 0 24 24\"\n",
              "       width=\"24px\">\n",
              "    <path d=\"M0 0h24v24H0V0z\" fill=\"none\"/>\n",
              "    <path d=\"M18.56 5.44l.94 2.06.94-2.06 2.06-.94-2.06-.94-.94-2.06-.94 2.06-2.06.94zm-11 1L8.5 8.5l.94-2.06 2.06-.94-2.06-.94L8.5 2.5l-.94 2.06-2.06.94zm10 10l.94 2.06.94-2.06 2.06-.94-2.06-.94-.94-2.06-.94 2.06-2.06.94z\"/><path d=\"M17.41 7.96l-1.37-1.37c-.4-.4-.92-.59-1.43-.59-.52 0-1.04.2-1.43.59L10.3 9.45l-7.72 7.72c-.78.78-.78 2.05 0 2.83L4 21.41c.39.39.9.59 1.41.59.51 0 1.02-.2 1.41-.59l7.78-7.78 2.81-2.81c.8-.78.8-2.07 0-2.86zM5.41 20L4 18.59l7.72-7.72 1.47 1.35L5.41 20z\"/>\n",
              "  </svg>\n",
              "      </button>\n",
              "      \n",
              "  <style>\n",
              "    .colab-df-container {\n",
              "      display:flex;\n",
              "      flex-wrap:wrap;\n",
              "      gap: 12px;\n",
              "    }\n",
              "\n",
              "    .colab-df-convert {\n",
              "      background-color: #E8F0FE;\n",
              "      border: none;\n",
              "      border-radius: 50%;\n",
              "      cursor: pointer;\n",
              "      display: none;\n",
              "      fill: #1967D2;\n",
              "      height: 32px;\n",
              "      padding: 0 0 0 0;\n",
              "      width: 32px;\n",
              "    }\n",
              "\n",
              "    .colab-df-convert:hover {\n",
              "      background-color: #E2EBFA;\n",
              "      box-shadow: 0px 1px 2px rgba(60, 64, 67, 0.3), 0px 1px 3px 1px rgba(60, 64, 67, 0.15);\n",
              "      fill: #174EA6;\n",
              "    }\n",
              "\n",
              "    [theme=dark] .colab-df-convert {\n",
              "      background-color: #3B4455;\n",
              "      fill: #D2E3FC;\n",
              "    }\n",
              "\n",
              "    [theme=dark] .colab-df-convert:hover {\n",
              "      background-color: #434B5C;\n",
              "      box-shadow: 0px 1px 3px 1px rgba(0, 0, 0, 0.15);\n",
              "      filter: drop-shadow(0px 1px 2px rgba(0, 0, 0, 0.3));\n",
              "      fill: #FFFFFF;\n",
              "    }\n",
              "  </style>\n",
              "\n",
              "      <script>\n",
              "        const buttonEl =\n",
              "          document.querySelector('#df-49c289f4-6e42-44c8-9433-d60434a46eb8 button.colab-df-convert');\n",
              "        buttonEl.style.display =\n",
              "          google.colab.kernel.accessAllowed ? 'block' : 'none';\n",
              "\n",
              "        async function convertToInteractive(key) {\n",
              "          const element = document.querySelector('#df-49c289f4-6e42-44c8-9433-d60434a46eb8');\n",
              "          const dataTable =\n",
              "            await google.colab.kernel.invokeFunction('convertToInteractive',\n",
              "                                                     [key], {});\n",
              "          if (!dataTable) return;\n",
              "\n",
              "          const docLinkHtml = 'Like what you see? Visit the ' +\n",
              "            '<a target=\"_blank\" href=https://colab.research.google.com/notebooks/data_table.ipynb>data table notebook</a>'\n",
              "            + ' to learn more about interactive tables.';\n",
              "          element.innerHTML = '';\n",
              "          dataTable['output_type'] = 'display_data';\n",
              "          await google.colab.output.renderOutput(dataTable, element);\n",
              "          const docLink = document.createElement('div');\n",
              "          docLink.innerHTML = docLinkHtml;\n",
              "          element.appendChild(docLink);\n",
              "        }\n",
              "      </script>\n",
              "    </div>\n",
              "  </div>\n",
              "  "
            ],
            "text/plain": [
              "   Unnamed: 0          age    gender  in_dakar  work_in_art  \\\n",
              "0           0  16 - 25 ans   Féminin      True         True   \n",
              "1           1  25 - 35 ans  Masculin     False        False   \n",
              "2           2  16 - 25 ans  Masculin      True         True   \n",
              "3           3  16 - 25 ans  Masculin      True        False   \n",
              "4           4  16 - 25 ans   Féminin      True        False   \n",
              "\n",
              "   interessed_in_art  work_with_artist     tools_used_to_get_artist  \\\n",
              "0                NaN               NaN                          NaN   \n",
              "1                5.0               1.0  Instagram, Bouche à oreille   \n",
              "2                NaN               NaN                          NaN   \n",
              "3                5.0               0.0             Bouche à oreille   \n",
              "4                2.0               1.0             Bouche à oreille   \n",
              "\n",
              "   experience_mark_with_artist work_satisfaction  ...  \\\n",
              "0                          NaN               NaN  ...   \n",
              "1                          9.0        A peu près  ...   \n",
              "2                          NaN               NaN  ...   \n",
              "3                          7.0               Oui  ...   \n",
              "4                          8.0        A peu près  ...   \n",
              "\n",
              "                                       expectations2  \\\n",
              "0  Que la totalité des données (échanges, product...   \n",
              "1                                                NaN   \n",
              "2                               Flexibilité, respect   \n",
              "3                                                NaN   \n",
              "4                                                NaN   \n",
              "\n",
              "  artists_expectations_in_one_word know_other_annuary concurrents  \\\n",
              "0           protection des données              False         NaN   \n",
              "1                              NaN              False         NaN   \n",
              "2             Flexibilité, respect              False         NaN   \n",
              "3                              NaN              False         NaN   \n",
              "4                              NaN              False         NaN   \n",
              "\n",
              "  experience_with_survey                               dislike_about_survey  \\\n",
              "0                      9  Aucun apéro ? Pas de petits buffets ? C'est ré...   \n",
              "1                      9                      Peu d’infos sur la plateforme   \n",
              "2                      9       Je n’aime pas trop écrire, je préfère cocher   \n",
              "3                     10                                   Franchement rien   \n",
              "4                      9                                               Rien   \n",
              "\n",
              "         Submitted At                             Token  \\\n",
              "0 2022-01-07 19:24:26  5rmcjpqm0zjo1j3uqywxjaa5rmcjpof0   \n",
              "1 2022-01-07 21:47:48  9n09lmwx7cmbopi7ialps9n09lmw8k1u   \n",
              "2 2022-01-07 21:47:39  p4tmnt85e5s5droqsxt59p4tmnth7h2a   \n",
              "3 2022-01-07 21:46:13  41lwhiddi4wo8xiw141lwh7661pcusc7   \n",
              "4 2022-01-07 21:52:39  rsi72g5kwq1njsv7zk7mrsi72w6iivoi   \n",
              "\n",
              "                                        expectations  \\\n",
              "0  Que la totalité des données (échanges, product...   \n",
              "1  Qualité visuelle \\nUtilité  artistique \\nVisib...   \n",
              "2                               Flexibilité, respect   \n",
              "3                                           Efficace   \n",
              "4  Que la plateforme regroupe des artistes connus...   \n",
              "\n",
              "                            expectations_in_one_word  \n",
              "0                             protection des données  \n",
              "1  Qualité visuelle \\nUtilité  artistique \\nVisib...  \n",
              "2                               Flexibilité, respect  \n",
              "3                                         Efficacite  \n",
              "4                               diversité  d'artiste  \n",
              "\n",
              "[5 rows x 29 columns]"
            ]
          },
          "execution_count": null,
          "metadata": {},
          "output_type": "execute_result"
        }
      ],
      "source": [
        "\n",
        "df = pd.read_excel('/content/survey_modify.xlsx')\n",
        "\n",
        "df.head()"
      ]
    },
    {
      "cell_type": "markdown",
      "metadata": {
        "id": "X5qPOvFcD-GI"
      },
      "source": [
        "# Nouvelle section"
      ]
    },
    {
      "cell_type": "code",
      "execution_count": null,
      "metadata": {
        "colab": {
          "background_save": true,
          "base_uri": "https://localhost:8080/"
        },
        "id": "_eXGWFhrYpB4",
        "outputId": "0d176519-b025-45bb-b3a6-008b759bfefe"
      },
      "outputs": [
        {
          "name": "stdout",
          "output_type": "stream",
          "text": [
            "<class 'pandas.core.frame.DataFrame'>\n",
            "RangeIndex: 84 entries, 0 to 83\n",
            "Data columns (total 29 columns):\n",
            " #   Column                            Non-Null Count  Dtype         \n",
            "---  ------                            --------------  -----         \n",
            " 0   Unnamed: 0                        84 non-null     int64         \n",
            " 1   age                               84 non-null     object        \n",
            " 2   gender                            84 non-null     object        \n",
            " 3   in_dakar                          84 non-null     bool          \n",
            " 4   work_in_art                       84 non-null     bool          \n",
            " 5   interessed_in_art                 44 non-null     float64       \n",
            " 6   work_with_artist                  44 non-null     float64       \n",
            " 7   tools_used_to_get_artist          29 non-null     object        \n",
            " 8   experience_mark_with_artist       34 non-null     float64       \n",
            " 9   work_satisfaction                 34 non-null     object        \n",
            " 10  digital_annuary_is_it_good        44 non-null     object        \n",
            " 11  expectations1                     32 non-null     object        \n",
            " 12  client_expectations_in_one_word   27 non-null     object        \n",
            " 13  partTime_or_fullTime              40 non-null     object        \n",
            " 14  art_discipline                    40 non-null     object        \n",
            " 15  art_as_source_of_income           40 non-null     float64       \n",
            " 16  artist_contact_with_client        40 non-null     object        \n",
            " 17  save_work_in_annuary              40 non-null     object        \n",
            " 18  collaborate_with_artist           40 non-null     object        \n",
            " 19  expectations2                     32 non-null     object        \n",
            " 20  artists_expectations_in_one_word  28 non-null     object        \n",
            " 21  know_other_annuary                84 non-null     bool          \n",
            " 22  concurrents                       6 non-null      object        \n",
            " 23  experience_with_survey            84 non-null     int64         \n",
            " 24  dislike_about_survey              59 non-null     object        \n",
            " 25  Submitted At                      84 non-null     datetime64[ns]\n",
            " 26  Token                             84 non-null     object        \n",
            " 27  expectations                      64 non-null     object        \n",
            " 28  expectations_in_one_word          42 non-null     object        \n",
            "dtypes: bool(3), datetime64[ns](1), float64(4), int64(2), object(19)\n",
            "memory usage: 17.4+ KB\n"
          ]
        }
      ],
      "source": [
        "df.info()"
      ]
    },
    {
      "cell_type": "code",
      "execution_count": null,
      "metadata": {
        "colab": {
          "background_save": true,
          "base_uri": "https://localhost:8080/"
        },
        "id": "OLrmSp7nZ01V",
        "outputId": "d6fae52f-ce72-47bc-f83f-88760987d2d6"
      },
      "outputs": [
        {
          "data": {
            "text/plain": [
              "Index(['Unnamed: 0', 'age', 'gender', 'in_dakar', 'work_in_art',\n",
              "       'interessed_in_art', 'work_with_artist', 'tools_used_to_get_artist',\n",
              "       'experience_mark_with_artist', 'work_satisfaction',\n",
              "       'digital_annuary_is_it_good', 'expectations1',\n",
              "       'client_expectations_in_one_word', 'partTime_or_fullTime',\n",
              "       'art_discipline', 'art_as_source_of_income',\n",
              "       'artist_contact_with_client', 'save_work_in_annuary',\n",
              "       'collaborate_with_artist', 'expectations2',\n",
              "       'artists_expectations_in_one_word', 'know_other_annuary', 'concurrents',\n",
              "       'experience_with_survey', 'dislike_about_survey', 'Submitted At',\n",
              "       'Token', 'expectations', 'expectations_in_one_word'],\n",
              "      dtype='object')"
            ]
          },
          "execution_count": null,
          "metadata": {},
          "output_type": "execute_result"
        }
      ],
      "source": [
        "df.columns"
      ]
    },
    {
      "cell_type": "code",
      "execution_count": null,
      "metadata": {
        "colab": {
          "background_save": true
        },
        "id": "Vab5SV1etbms"
      },
      "outputs": [],
      "source": [
        "df['expectations']=df['expectations1'].combine_first(df['expectations2'])\n",
        "df.head()\n",
        "df.to_excel(\"survey_modify.xlsx\",sheet_name=\"Sheet1\")"
      ]
    },
    {
      "cell_type": "code",
      "execution_count": null,
      "metadata": {
        "colab": {
          "base_uri": "https://localhost:8080/",
          "height": 239
        },
        "id": "mtuNyvMKZ8ek",
        "outputId": "9226366c-52b1-48be-bad8-162b0cda81d5"
      },
      "outputs": [
        {
          "data": {
            "text/html": [
              "\n",
              "  <div id=\"df-4844b1a2-045c-435e-847b-698990156df8\">\n",
              "    <div class=\"colab-df-container\">\n",
              "      <div>\n",
              "<style scoped>\n",
              "    .dataframe tbody tr th:only-of-type {\n",
              "        vertical-align: middle;\n",
              "    }\n",
              "\n",
              "    .dataframe tbody tr th {\n",
              "        vertical-align: top;\n",
              "    }\n",
              "\n",
              "    .dataframe thead tr th {\n",
              "        text-align: left;\n",
              "    }\n",
              "\n",
              "    .dataframe thead tr:last-of-type th {\n",
              "        text-align: right;\n",
              "    }\n",
              "</style>\n",
              "<table border=\"1\" class=\"dataframe\">\n",
              "  <thead>\n",
              "    <tr>\n",
              "      <th></th>\n",
              "      <th colspan=\"8\" halign=\"left\">interessed_in_art</th>\n",
              "      <th colspan=\"8\" halign=\"left\">work_with_artist</th>\n",
              "      <th colspan=\"8\" halign=\"left\">experience_mark_with_artist</th>\n",
              "      <th colspan=\"8\" halign=\"left\">art_as_source_of_income</th>\n",
              "      <th colspan=\"8\" halign=\"left\">experience_with_survey</th>\n",
              "    </tr>\n",
              "    <tr>\n",
              "      <th></th>\n",
              "      <th>count</th>\n",
              "      <th>mean</th>\n",
              "      <th>std</th>\n",
              "      <th>min</th>\n",
              "      <th>25%</th>\n",
              "      <th>50%</th>\n",
              "      <th>75%</th>\n",
              "      <th>max</th>\n",
              "      <th>count</th>\n",
              "      <th>mean</th>\n",
              "      <th>std</th>\n",
              "      <th>min</th>\n",
              "      <th>25%</th>\n",
              "      <th>50%</th>\n",
              "      <th>75%</th>\n",
              "      <th>max</th>\n",
              "      <th>count</th>\n",
              "      <th>mean</th>\n",
              "      <th>std</th>\n",
              "      <th>min</th>\n",
              "      <th>25%</th>\n",
              "      <th>50%</th>\n",
              "      <th>75%</th>\n",
              "      <th>max</th>\n",
              "      <th>count</th>\n",
              "      <th>mean</th>\n",
              "      <th>std</th>\n",
              "      <th>min</th>\n",
              "      <th>25%</th>\n",
              "      <th>50%</th>\n",
              "      <th>75%</th>\n",
              "      <th>max</th>\n",
              "      <th>count</th>\n",
              "      <th>mean</th>\n",
              "      <th>std</th>\n",
              "      <th>min</th>\n",
              "      <th>25%</th>\n",
              "      <th>50%</th>\n",
              "      <th>75%</th>\n",
              "      <th>max</th>\n",
              "    </tr>\n",
              "    <tr>\n",
              "      <th>in_dakar</th>\n",
              "      <th></th>\n",
              "      <th></th>\n",
              "      <th></th>\n",
              "      <th></th>\n",
              "      <th></th>\n",
              "      <th></th>\n",
              "      <th></th>\n",
              "      <th></th>\n",
              "      <th></th>\n",
              "      <th></th>\n",
              "      <th></th>\n",
              "      <th></th>\n",
              "      <th></th>\n",
              "      <th></th>\n",
              "      <th></th>\n",
              "      <th></th>\n",
              "      <th></th>\n",
              "      <th></th>\n",
              "      <th></th>\n",
              "      <th></th>\n",
              "      <th></th>\n",
              "      <th></th>\n",
              "      <th></th>\n",
              "      <th></th>\n",
              "      <th></th>\n",
              "      <th></th>\n",
              "      <th></th>\n",
              "      <th></th>\n",
              "      <th></th>\n",
              "      <th></th>\n",
              "      <th></th>\n",
              "      <th></th>\n",
              "      <th></th>\n",
              "      <th></th>\n",
              "      <th></th>\n",
              "      <th></th>\n",
              "      <th></th>\n",
              "      <th></th>\n",
              "      <th></th>\n",
              "      <th></th>\n",
              "    </tr>\n",
              "  </thead>\n",
              "  <tbody>\n",
              "    <tr>\n",
              "      <th>False</th>\n",
              "      <td>10.0</td>\n",
              "      <td>4.000000</td>\n",
              "      <td>0.666667</td>\n",
              "      <td>3.0</td>\n",
              "      <td>4.0</td>\n",
              "      <td>4.0</td>\n",
              "      <td>4.0</td>\n",
              "      <td>5.0</td>\n",
              "      <td>10.0</td>\n",
              "      <td>1.000000</td>\n",
              "      <td>0.000000</td>\n",
              "      <td>1.0</td>\n",
              "      <td>1.0</td>\n",
              "      <td>1.0</td>\n",
              "      <td>1.0</td>\n",
              "      <td>1.0</td>\n",
              "      <td>10.0</td>\n",
              "      <td>8.400000</td>\n",
              "      <td>1.074968</td>\n",
              "      <td>7.0</td>\n",
              "      <td>8.0</td>\n",
              "      <td>8.0</td>\n",
              "      <td>9.0</td>\n",
              "      <td>10.0</td>\n",
              "      <td>3.0</td>\n",
              "      <td>1.000000</td>\n",
              "      <td>0.000000</td>\n",
              "      <td>1.0</td>\n",
              "      <td>1.0</td>\n",
              "      <td>1.0</td>\n",
              "      <td>1.0</td>\n",
              "      <td>1.0</td>\n",
              "      <td>13.0</td>\n",
              "      <td>8.923077</td>\n",
              "      <td>1.441153</td>\n",
              "      <td>5.0</td>\n",
              "      <td>8.0</td>\n",
              "      <td>9.0</td>\n",
              "      <td>10.0</td>\n",
              "      <td>10.0</td>\n",
              "    </tr>\n",
              "    <tr>\n",
              "      <th>True</th>\n",
              "      <td>31.0</td>\n",
              "      <td>3.709677</td>\n",
              "      <td>1.101319</td>\n",
              "      <td>1.0</td>\n",
              "      <td>3.0</td>\n",
              "      <td>4.0</td>\n",
              "      <td>5.0</td>\n",
              "      <td>5.0</td>\n",
              "      <td>31.0</td>\n",
              "      <td>0.548387</td>\n",
              "      <td>0.505879</td>\n",
              "      <td>0.0</td>\n",
              "      <td>0.0</td>\n",
              "      <td>1.0</td>\n",
              "      <td>1.0</td>\n",
              "      <td>1.0</td>\n",
              "      <td>23.0</td>\n",
              "      <td>6.869565</td>\n",
              "      <td>2.262427</td>\n",
              "      <td>1.0</td>\n",
              "      <td>6.0</td>\n",
              "      <td>7.0</td>\n",
              "      <td>8.0</td>\n",
              "      <td>10.0</td>\n",
              "      <td>37.0</td>\n",
              "      <td>0.486486</td>\n",
              "      <td>0.506712</td>\n",
              "      <td>0.0</td>\n",
              "      <td>0.0</td>\n",
              "      <td>0.0</td>\n",
              "      <td>1.0</td>\n",
              "      <td>1.0</td>\n",
              "      <td>68.0</td>\n",
              "      <td>8.132353</td>\n",
              "      <td>1.907600</td>\n",
              "      <td>2.0</td>\n",
              "      <td>7.0</td>\n",
              "      <td>9.0</td>\n",
              "      <td>10.0</td>\n",
              "      <td>10.0</td>\n",
              "    </tr>\n",
              "  </tbody>\n",
              "</table>\n",
              "</div>\n",
              "      <button class=\"colab-df-convert\" onclick=\"convertToInteractive('df-4844b1a2-045c-435e-847b-698990156df8')\"\n",
              "              title=\"Convert this dataframe to an interactive table.\"\n",
              "              style=\"display:none;\">\n",
              "        \n",
              "  <svg xmlns=\"http://www.w3.org/2000/svg\" height=\"24px\"viewBox=\"0 0 24 24\"\n",
              "       width=\"24px\">\n",
              "    <path d=\"M0 0h24v24H0V0z\" fill=\"none\"/>\n",
              "    <path d=\"M18.56 5.44l.94 2.06.94-2.06 2.06-.94-2.06-.94-.94-2.06-.94 2.06-2.06.94zm-11 1L8.5 8.5l.94-2.06 2.06-.94-2.06-.94L8.5 2.5l-.94 2.06-2.06.94zm10 10l.94 2.06.94-2.06 2.06-.94-2.06-.94-.94-2.06-.94 2.06-2.06.94z\"/><path d=\"M17.41 7.96l-1.37-1.37c-.4-.4-.92-.59-1.43-.59-.52 0-1.04.2-1.43.59L10.3 9.45l-7.72 7.72c-.78.78-.78 2.05 0 2.83L4 21.41c.39.39.9.59 1.41.59.51 0 1.02-.2 1.41-.59l7.78-7.78 2.81-2.81c.8-.78.8-2.07 0-2.86zM5.41 20L4 18.59l7.72-7.72 1.47 1.35L5.41 20z\"/>\n",
              "  </svg>\n",
              "      </button>\n",
              "      \n",
              "  <style>\n",
              "    .colab-df-container {\n",
              "      display:flex;\n",
              "      flex-wrap:wrap;\n",
              "      gap: 12px;\n",
              "    }\n",
              "\n",
              "    .colab-df-convert {\n",
              "      background-color: #E8F0FE;\n",
              "      border: none;\n",
              "      border-radius: 50%;\n",
              "      cursor: pointer;\n",
              "      display: none;\n",
              "      fill: #1967D2;\n",
              "      height: 32px;\n",
              "      padding: 0 0 0 0;\n",
              "      width: 32px;\n",
              "    }\n",
              "\n",
              "    .colab-df-convert:hover {\n",
              "      background-color: #E2EBFA;\n",
              "      box-shadow: 0px 1px 2px rgba(60, 64, 67, 0.3), 0px 1px 3px 1px rgba(60, 64, 67, 0.15);\n",
              "      fill: #174EA6;\n",
              "    }\n",
              "\n",
              "    [theme=dark] .colab-df-convert {\n",
              "      background-color: #3B4455;\n",
              "      fill: #D2E3FC;\n",
              "    }\n",
              "\n",
              "    [theme=dark] .colab-df-convert:hover {\n",
              "      background-color: #434B5C;\n",
              "      box-shadow: 0px 1px 3px 1px rgba(0, 0, 0, 0.15);\n",
              "      filter: drop-shadow(0px 1px 2px rgba(0, 0, 0, 0.3));\n",
              "      fill: #FFFFFF;\n",
              "    }\n",
              "  </style>\n",
              "\n",
              "      <script>\n",
              "        const buttonEl =\n",
              "          document.querySelector('#df-4844b1a2-045c-435e-847b-698990156df8 button.colab-df-convert');\n",
              "        buttonEl.style.display =\n",
              "          google.colab.kernel.accessAllowed ? 'block' : 'none';\n",
              "\n",
              "        async function convertToInteractive(key) {\n",
              "          const element = document.querySelector('#df-4844b1a2-045c-435e-847b-698990156df8');\n",
              "          const dataTable =\n",
              "            await google.colab.kernel.invokeFunction('convertToInteractive',\n",
              "                                                     [key], {});\n",
              "          if (!dataTable) return;\n",
              "\n",
              "          const docLinkHtml = 'Like what you see? Visit the ' +\n",
              "            '<a target=\"_blank\" href=https://colab.research.google.com/notebooks/data_table.ipynb>data table notebook</a>'\n",
              "            + ' to learn more about interactive tables.';\n",
              "          element.innerHTML = '';\n",
              "          dataTable['output_type'] = 'display_data';\n",
              "          await google.colab.output.renderOutput(dataTable, element);\n",
              "          const docLink = document.createElement('div');\n",
              "          docLink.innerHTML = docLinkHtml;\n",
              "          element.appendChild(docLink);\n",
              "        }\n",
              "      </script>\n",
              "    </div>\n",
              "  </div>\n",
              "  "
            ],
            "text/plain": [
              "         interessed_in_art                           ... experience_with_survey                 \n",
              "                     count      mean       std  min  ...                    25%  50%   75%   max\n",
              "in_dakar                                             ...                                        \n",
              "False                 10.0  4.000000  0.666667  3.0  ...                    8.0  9.0  10.0  10.0\n",
              "True                  31.0  3.709677  1.101319  1.0  ...                    7.0  9.0  10.0  10.0\n",
              "\n",
              "[2 rows x 40 columns]"
            ]
          },
          "execution_count": 38,
          "metadata": {},
          "output_type": "execute_result"
        }
      ],
      "source": [
        "dakar = df.groupby('in_dakar')\n",
        "dakar.describe().head()"
      ]
    },
    {
      "cell_type": "code",
      "execution_count": null,
      "metadata": {
        "id": "01gCcrNBb3tn"
      },
      "outputs": [],
      "source": [
        "expectations = df.groupby('expectations')\n",
        "expectations.describe()"
      ]
    },
    {
      "cell_type": "code",
      "execution_count": null,
      "metadata": {
        "colab": {
          "base_uri": "https://localhost:8080/",
          "height": 122
        },
        "id": "kc_f-c3Gdumr",
        "outputId": "32f08428-047b-4147-d2a9-241deff570fa"
      },
      "outputs": [
        {
          "data": {
            "image/png": "[encoded data removed]",
            "text/plain": [
              "<Figure size 432x288 with 3 Axes>"
            ]
          },
          "metadata": {},
          "output_type": "display_data"
        },
        {
          "data": {
            "text/plain": [
              "<wordcloud.wordcloud.WordCloud at 0x7f5f476bc410>"
            ]
          },
          "execution_count": 65,
          "metadata": {},
          "output_type": "execute_result"
        }
      ],
      "source": [
        "\n",
        "client_expectations = \" \".join(str(word) for word in df['client_expectations_in_one_word'].dropna() )\n",
        "artist_expectations = \" \".join(str(word) for word in df['artists_expectations_in_one_word'].dropna() )\n",
        "\n",
        "# Create stopword list:\n",
        "stopwords = set(STOPWORDS)\n",
        "stopwords.update([\"de\",\"et\",\"la\",\"le\"])\n",
        "\n",
        "thinker_mask = np.array(Image.open(\"/content/1646860.jpeg\"))\n",
        "\n",
        "wordcloud = WordCloud(max_font_size= 1000, background_color=\"white\",stopwords=stopwords,mask=thinker_mask).generate(client_expectations)\n",
        "\n",
        "\n",
        "# create coloring from image\n",
        "image_colors = ImageColorGenerator(thinker_mask)\n",
        "\n",
        "# show\n",
        "fig, axes = plt.subplots(1, 3)\n",
        "axes[0].imshow(wordcloud, interpolation=\"bilinear\")\n",
        "# recolor wordcloud and show\n",
        "# we could also give color_func=image_colors directly in the constructor\n",
        "axes[1].imshow(wordcloud.recolor(color_func=image_colors), interpolation=\"bilinear\")\n",
        "axes[2].imshow(thinker_mask, cmap=plt.cm.gray, interpolation=\"bilinear\")\n",
        "for ax in axes:\n",
        "    ax.set_axis_off()\n",
        "plt.show()\n",
        "\n",
        "wordcloud.to_file(\"client_expectations.png\")\n"
      ]
    },
    {
      "cell_type": "code",
      "execution_count": null,
      "metadata": {
        "colab": {
          "base_uri": "https://localhost:8080/",
          "height": 103
        },
        "id": "MgcR3NMJ3uJ4",
        "outputId": "d416fb66-f112-47d2-8bdb-05357529d12e"
      },
      "outputs": [
        {
          "data": {
            "image/png": "[encoded data removed]",
            "text/plain": [
              "<Figure size 432x288 with 3 Axes>"
            ]
          },
          "metadata": {},
          "output_type": "display_data"
        },
        {
          "data": {
            "text/plain": [
              "<wordcloud.wordcloud.WordCloud at 0x7f5f4753e250>"
            ]
          },
          "execution_count": 77,
          "metadata": {},
          "output_type": "execute_result"
        }
      ],
      "source": [
        "# Create stopword list:\n",
        "stopwords = set(STOPWORDS)\n",
        "stopwords.update([\"de\",\"et\",\"la\",\"le\",\"des\"])\n",
        "\n",
        "\n",
        "artist_mask = np.array(Image.open(\"/content/image.jpeg\"))\n",
        "wordcloud = WordCloud(max_font_size= 1000, background_color=\"white\",stopwords=stopwords,mask=artist_mask).generate(artist_expectations)\n",
        "\n",
        "\n",
        "# create coloring from image\n",
        "image_colors = ImageColorGenerator(artist_mask)\n",
        "\n",
        "# show\n",
        "fig, axes = plt.subplots(1, 3)\n",
        "axes[0].imshow(wordcloud, interpolation=\"bilinear\")\n",
        "# recolor wordcloud and show\n",
        "# we could also give color_func=image_colors directly in the constructor\n",
        "axes[1].imshow(wordcloud.recolor(color_func=image_colors), interpolation=\"bilinear\")\n",
        "axes[2].imshow(artist_mask, cmap=plt.cm.gray, interpolation=\"bilinear\")\n",
        "for ax in axes:\n",
        "    ax.set_axis_off()\n",
        "plt.show()\n",
        "\n",
        "wordcloud.to_file(\"artist_expectations.png\")"
      ]
    },
    {
      "cell_type": "code",
      "execution_count": null,
      "metadata": {
        "id": "tdKn1t2WmIvP"
      },
      "outputs": [],
      "source": [
        ""
      ]
    },
    {
      "cell_type": "code",
      "execution_count": null,
      "metadata": {
        "colab": {
          "base_uri": "https://localhost:8080/",
          "height": 265
        },
        "id": "AG6eCRW1mJFn",
        "outputId": "be9ff5eb-496d-4761-8bba-c3941e27801a"
      },
      "outputs": [
        {
          "data": {
            "image/png": "[encoded data removed]",
            "text/plain": [
              "<Figure size 432x288 with 1 Axes>"
            ]
          },
          "metadata": {},
          "output_type": "display_data"
        },
        {
          "data": {
            "text/plain": [
              "<wordcloud.wordcloud.WordCloud at 0x7f5f477fb550>"
            ]
          },
          "execution_count": 64,
          "metadata": {},
          "output_type": "execute_result"
        }
      ],
      "source": [
        "\n",
        "# Create stopword list:\n",
        "stopwords = set(STOPWORDS)\n",
        "stopwords.update([\"de\",\"et\",\"la\",\"le\"])\n",
        "\n",
        "thinker_mask = np.array(Image.open(\"/content/1646860.jpeg\"))\n",
        "\n",
        "wordcloud = WordCloud(max_font_size= 1000, background_color=\"white\",stopwords=stopwords,mask=thinker_mask).generate(client_expectations)\n",
        "\n",
        "# Display the generated image:\n",
        "plt.imshow(wordcloud, interpolation='bilinear')\n",
        "plt.axis(\"off\")\n",
        "plt.show()\n",
        "\n",
        "wordcloud.to_file(\"client_expectations.png\")\n"
      ]
    },
    {
      "cell_type": "code",
      "execution_count": null,
      "metadata": {
        "colab": {
          "base_uri": "https://localhost:8080/",
          "height": 248
        },
        "id": "dqY0Rb1xmQXK",
        "outputId": "e1332962-f28d-464c-9c81-2c8975422df5"
      },
      "outputs": [
        {
          "ename": "NameError",
          "evalue": "ignored",
          "output_type": "error",
          "traceback": [
            "\u001b[0;31m---------------------------------------------------------------------------\u001b[0m",
            "\u001b[0;31mNameError\u001b[0m                                 Traceback (most recent call last)",
            "\u001b[0;32m<ipython-input-3-e2166af8473f>\u001b[0m in \u001b[0;36m<module>\u001b[0;34m()\u001b[0m\n\u001b[1;32m      1\u001b[0m \u001b[0;34m\u001b[0m\u001b[0m\n\u001b[0;32m----> 2\u001b[0;31m \u001b[0mclient_expectations\u001b[0m \u001b[0;34m=\u001b[0m \u001b[0;34m\" \"\u001b[0m\u001b[0;34m.\u001b[0m\u001b[0mjoin\u001b[0m\u001b[0;34m(\u001b[0m\u001b[0mstr\u001b[0m\u001b[0;34m(\u001b[0m\u001b[0mword\u001b[0m\u001b[0;34m)\u001b[0m \u001b[0;32mfor\u001b[0m \u001b[0mword\u001b[0m \u001b[0;32min\u001b[0m \u001b[0mdf\u001b[0m\u001b[0;34m[\u001b[0m\u001b[0;34m'client_expectations_in_one_word'\u001b[0m\u001b[0;34m]\u001b[0m\u001b[0;34m.\u001b[0m\u001b[0mdropna\u001b[0m\u001b[0;34m(\u001b[0m\u001b[0;34m)\u001b[0m \u001b[0;34m)\u001b[0m\u001b[0;34m\u001b[0m\u001b[0;34m\u001b[0m\u001b[0m\n\u001b[0m\u001b[1;32m      3\u001b[0m \u001b[0martist_expectations\u001b[0m \u001b[0;34m=\u001b[0m \u001b[0;34m\" \"\u001b[0m\u001b[0;34m.\u001b[0m\u001b[0mjoin\u001b[0m\u001b[0;34m(\u001b[0m\u001b[0mstr\u001b[0m\u001b[0;34m(\u001b[0m\u001b[0mword\u001b[0m\u001b[0;34m)\u001b[0m \u001b[0;32mfor\u001b[0m \u001b[0mword\u001b[0m \u001b[0;32min\u001b[0m \u001b[0mdf\u001b[0m\u001b[0;34m[\u001b[0m\u001b[0;34m'artists_expectations_in_one_word'\u001b[0m\u001b[0;34m]\u001b[0m\u001b[0;34m.\u001b[0m\u001b[0mdropna\u001b[0m\u001b[0;34m(\u001b[0m\u001b[0;34m)\u001b[0m \u001b[0;34m)\u001b[0m\u001b[0;34m\u001b[0m\u001b[0;34m\u001b[0m\u001b[0m\n\u001b[1;32m      4\u001b[0m \u001b[0;34m\u001b[0m\u001b[0m\n\u001b[1;32m      5\u001b[0m \u001b[0;31m# Create stopword list:\u001b[0m\u001b[0;34m\u001b[0m\u001b[0;34m\u001b[0m\u001b[0;34m\u001b[0m\u001b[0m\n",
            "\u001b[0;31mNameError\u001b[0m: name 'df' is not defined"
          ]
        }
      ],
      "source": [
        "\n",
        "client_expectations = \" \".join(str(word) for word in df['client_expectations_in_one_word'].dropna() )\n",
        "artist_expectations = \" \".join(str(word) for word in df['artists_expectations_in_one_word'].dropna() )\n",
        "\n",
        "# Create stopword list:\n",
        "stopwords = set(STOPWORDS)\n",
        "stopwords.update([\"de\",\"et\",\"la\",\"le\"])\n",
        "\n",
        "thinker_mask = np.array(Image.open(\"/content/thinker.jpg\"))\n",
        "\n",
        "wordcloud = WordCloud(max_font_size= 1000, background_color=\"white\",stopwords=stopwords,mask=thinker_mask).generate(client_expectations)\n",
        "\n",
        "# Display the generated image:\n",
        "plt.imshow(wordcloud, interpolation='bilinear')\n",
        "plt.axis(\"off\")\n",
        "plt.show()\n",
        "\n",
        "wordcloud.to_file(\"client_expectations.png\")\n"
      ]
    },
    {
      "cell_type": "code",
      "execution_count": null,
      "metadata": {
        "colab": {
          "base_uri": "https://localhost:8080/"
        },
        "id": "7Q8hIMJVHwrB",
        "outputId": "0f2d197d-c196-4d09-dfd3-cb2653a450aa"
      },
      "outputs": [
        {
          "name": "stdout",
          "output_type": "stream",
          "text": [
            "Help on module google.colab.drive in google.colab:\n",
            "\n",
            "NAME\n",
            "    google.colab.drive - Colab-specific Google Drive integration.\n",
            "\n",
            "FUNCTIONS\n",
            "    flush_and_unmount(timeout_ms=86400000)\n",
            "        Unmount Google Drive and flush any outstanding writes to it.\n",
            "    \n",
            "    mount(mountpoint, force_remount=False, timeout_ms=120000, use_metadata_server=None)\n",
            "        Mount your Google Drive at the specified mountpoint path.\n",
            "\n",
            "DATA\n",
            "    __all__ = ['flush_and_unmount', 'mount']\n",
            "\n",
            "FILE\n",
            "    /usr/local/lib/python3.7/dist-packages/google/colab/drive.py\n",
            "\n",
            "\n"
          ]
        }
      ],
      "source": [
        "from google.colab import drive\n",
        "\n",
        "help(drive)"
      ]
    },
    {
      "cell_type": "code",
      "execution_count": null,
      "metadata": {
        "colab": {
          "base_uri": "https://localhost:8080/"
        },
        "id": "J-9S8AZrp_VB",
        "outputId": "25370c43-4f72-4d5c-b43e-a7c3e6d677f9"
      },
      "outputs": [
        {
          "name": "stdout",
          "output_type": "stream",
          "text": [
            "Mounted at /content/drive/\n"
          ]
        }
      ],
      "source": [
        "from google.colab import drive\n",
        "drive.mount('/content/drive/')"
      ]
    },
    {
      "cell_type": "code",
      "execution_count": null,
      "metadata": {
        "id": "PyNOB5uhInxX"
      },
      "outputs": [],
      "source": [
        "'/content/drive/MyDrive/Colab Notebooks'"
      ]
    }
  ],
  "metadata": {
    "colab": {
      "collapsed_sections": [],
      "name": "Lartribu_market_study_Wordcloud",
      "provenance": [],
      "mount_file_id": "1bGwzLbjk544KxsnkQmLVh3TVJ3ay7s10",
      "authorship_tag": "ABX9TyPrbNbN9Lu5RwOFkbs1jxAQ",
      "include_colab_link": true
    },
    "kernelspec": {
      "display_name": "Python 3",
      "name": "python3"
    },
    "language_info": {
      "name": "python"
    }
  },
  "nbformat": 4,
  "nbformat_minor": 0
}